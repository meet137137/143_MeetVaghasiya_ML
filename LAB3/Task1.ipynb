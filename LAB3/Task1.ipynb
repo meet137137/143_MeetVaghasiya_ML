{
  "nbformat": 4,
  "nbformat_minor": 0,
  "metadata": {
    "kernelspec": {
      "name": "python3",
      "display_name": "Python 3", 
      "language": "python"
    },
    "language_info": {
      "name": "python",
      "version": "3.6.13",
      "mimetype": "text/x-python",
      "codemirror_mode": {
        "name": "ipython",
        "version": 3
      },
      "pygments_lexer": "ipython3",
      "nbconvert_exporter": "python",
      "file_extension": ".py"
    },
    "colab": {
      "name": "Task1.ipynb",
      "provenance": []
    }
  },
  "cells": [
    {
      "cell_type": "markdown",
      "metadata": {
        "id": "WBJ8Q9u5J5tH"
      },
      "source": [
        "# Task 1: Try the algo on Dataset3 - LabelEncoding of features: and Train test Division 95%-5%"
      ]
    },
    {
      "cell_type": "code",
      "metadata": {
        "trusted": true,
        "id": "UVfG4XRdJ5tP"
      },
      "source": [
        "# Libraries\n",
        "import pandas as pd\n",
        "from sklearn import preprocessing\n",
        "from sklearn.naive_bayes import GaussianNB, MultinomialNB\n",
        "from sklearn.model_selection import train_test_split"
      ],
      "execution_count": null,
      "outputs": []
    },
    {
      "cell_type": "code",
      "metadata": {
        "trusted": true,
        "id": "mKTtI0lzJ5tS"
      },
      "source": [
        "data=pd.read_csv(\"Dataset3.csv\")"
      ],
      "execution_count": null,
      "outputs": []
    },
    {
      "cell_type": "code",
      "metadata": {
        "trusted": true,
        "id": "0fvQBkXIJ5tT",
        "outputId": "fbf9c3c9-6c6f-4c11-e3d1-b8a0edead48d"
      },
      "source": [
        "data"
      ],
      "execution_count": null,
      "outputs": [
        {
          "output_type": "execute_result",
          "execution_count": 26,
          "data": {
            "text/plain": "   Outlook Temp Wind  Humidity  Class\n0        R    H    F         1      0\n1        R    H    T         2      0\n2        O    H    F         1      1\n3        R    M    F         1      1\n4        S    C    F         1      1\n5        O    C    T         0      0\n6        O    C    T         1      1\n7        R    M    F         1      0\n8        O    C    F         0      1\n9        S    M    F         2      1\n10       R    C    T         2      0\n11       O    M    T         0      1\n12       O    H    F         1      1\n13       S    M    T         1      0",
            "text/html": "<div>\n<style scoped>\n    .dataframe tbody tr th:only-of-type {\n        vertical-align: middle;\n    }\n\n    .dataframe tbody tr th {\n        vertical-align: top;\n    }\n\n    .dataframe thead th {\n        text-align: right;\n    }\n</style>\n<table border=\"1\" class=\"dataframe\">\n  <thead>\n    <tr style=\"text-align: right;\">\n      <th></th>\n      <th>Outlook</th>\n      <th>Temp</th>\n      <th>Wind</th>\n      <th>Humidity</th>\n      <th>Class</th>\n    </tr>\n  </thead>\n  <tbody>\n    <tr>\n      <th>0</th>\n      <td>R</td>\n      <td>H</td>\n      <td>F</td>\n      <td>1</td>\n      <td>0</td>\n    </tr>\n    <tr>\n      <th>1</th>\n      <td>R</td>\n      <td>H</td>\n      <td>T</td>\n      <td>2</td>\n      <td>0</td>\n    </tr>\n    <tr>\n      <th>2</th>\n      <td>O</td>\n      <td>H</td>\n      <td>F</td>\n      <td>1</td>\n      <td>1</td>\n    </tr>\n    <tr>\n      <th>3</th>\n      <td>R</td>\n      <td>M</td>\n      <td>F</td>\n      <td>1</td>\n      <td>1</td>\n    </tr>\n    <tr>\n      <th>4</th>\n      <td>S</td>\n      <td>C</td>\n      <td>F</td>\n      <td>1</td>\n      <td>1</td>\n    </tr>\n    <tr>\n      <th>5</th>\n      <td>O</td>\n      <td>C</td>\n      <td>T</td>\n      <td>0</td>\n      <td>0</td>\n    </tr>\n    <tr>\n      <th>6</th>\n      <td>O</td>\n      <td>C</td>\n      <td>T</td>\n      <td>1</td>\n      <td>1</td>\n    </tr>\n    <tr>\n      <th>7</th>\n      <td>R</td>\n      <td>M</td>\n      <td>F</td>\n      <td>1</td>\n      <td>0</td>\n    </tr>\n    <tr>\n      <th>8</th>\n      <td>O</td>\n      <td>C</td>\n      <td>F</td>\n      <td>0</td>\n      <td>1</td>\n    </tr>\n    <tr>\n      <th>9</th>\n      <td>S</td>\n      <td>M</td>\n      <td>F</td>\n      <td>2</td>\n      <td>1</td>\n    </tr>\n    <tr>\n      <th>10</th>\n      <td>R</td>\n      <td>C</td>\n      <td>T</td>\n      <td>2</td>\n      <td>0</td>\n    </tr>\n    <tr>\n      <th>11</th>\n      <td>O</td>\n      <td>M</td>\n      <td>T</td>\n      <td>0</td>\n      <td>1</td>\n    </tr>\n    <tr>\n      <th>12</th>\n      <td>O</td>\n      <td>H</td>\n      <td>F</td>\n      <td>1</td>\n      <td>1</td>\n    </tr>\n    <tr>\n      <th>13</th>\n      <td>S</td>\n      <td>M</td>\n      <td>T</td>\n      <td>1</td>\n      <td>0</td>\n    </tr>\n  </tbody>\n</table>\n</div>"
          },
          "metadata": {}
        }
      ]
    },
    {
      "cell_type": "code",
      "metadata": {
        "trusted": true,
        "id": "PFiH40p8J5tW",
        "outputId": "440b4321-6511-4b57-8331-f65aca3ebf55"
      },
      "source": [
        "data.describe()"
      ],
      "execution_count": null,
      "outputs": [
        {
          "output_type": "execute_result",
          "execution_count": 27,
          "data": {
            "text/plain": "        Humidity      Class\ncount  14.000000  14.000000\nmean    1.000000   0.571429\nstd     0.679366   0.513553\nmin     0.000000   0.000000\n25%     1.000000   0.000000\n50%     1.000000   1.000000\n75%     1.000000   1.000000\nmax     2.000000   1.000000",
            "text/html": "<div>\n<style scoped>\n    .dataframe tbody tr th:only-of-type {\n        vertical-align: middle;\n    }\n\n    .dataframe tbody tr th {\n        vertical-align: top;\n    }\n\n    .dataframe thead th {\n        text-align: right;\n    }\n</style>\n<table border=\"1\" class=\"dataframe\">\n  <thead>\n    <tr style=\"text-align: right;\">\n      <th></th>\n      <th>Humidity</th>\n      <th>Class</th>\n    </tr>\n  </thead>\n  <tbody>\n    <tr>\n      <th>count</th>\n      <td>14.000000</td>\n      <td>14.000000</td>\n    </tr>\n    <tr>\n      <th>mean</th>\n      <td>1.000000</td>\n      <td>0.571429</td>\n    </tr>\n    <tr>\n      <th>std</th>\n      <td>0.679366</td>\n      <td>0.513553</td>\n    </tr>\n    <tr>\n      <th>min</th>\n      <td>0.000000</td>\n      <td>0.000000</td>\n    </tr>\n    <tr>\n      <th>25%</th>\n      <td>1.000000</td>\n      <td>0.000000</td>\n    </tr>\n    <tr>\n      <th>50%</th>\n      <td>1.000000</td>\n      <td>1.000000</td>\n    </tr>\n    <tr>\n      <th>75%</th>\n      <td>1.000000</td>\n      <td>1.000000</td>\n    </tr>\n    <tr>\n      <th>max</th>\n      <td>2.000000</td>\n      <td>1.000000</td>\n    </tr>\n  </tbody>\n</table>\n</div>"
          },
          "metadata": {}
        }
      ]
    },
    {
      "cell_type": "code",
      "metadata": {
        "scrolled": false,
        "trusted": true,
        "id": "xatm1aVsJ5tX",
        "outputId": "cf844494-3287-4d06-decb-e086b35ddd0c"
      },
      "source": [
        "data.head()"
      ],
      "execution_count": null,
      "outputs": [
        {
          "output_type": "execute_result",
          "execution_count": 28,
          "data": {
            "text/plain": "  Outlook Temp Wind  Humidity  Class\n0       R    H    F         1      0\n1       R    H    T         2      0\n2       O    H    F         1      1\n3       R    M    F         1      1\n4       S    C    F         1      1",
            "text/html": "<div>\n<style scoped>\n    .dataframe tbody tr th:only-of-type {\n        vertical-align: middle;\n    }\n\n    .dataframe tbody tr th {\n        vertical-align: top;\n    }\n\n    .dataframe thead th {\n        text-align: right;\n    }\n</style>\n<table border=\"1\" class=\"dataframe\">\n  <thead>\n    <tr style=\"text-align: right;\">\n      <th></th>\n      <th>Outlook</th>\n      <th>Temp</th>\n      <th>Wind</th>\n      <th>Humidity</th>\n      <th>Class</th>\n    </tr>\n  </thead>\n  <tbody>\n    <tr>\n      <th>0</th>\n      <td>R</td>\n      <td>H</td>\n      <td>F</td>\n      <td>1</td>\n      <td>0</td>\n    </tr>\n    <tr>\n      <th>1</th>\n      <td>R</td>\n      <td>H</td>\n      <td>T</td>\n      <td>2</td>\n      <td>0</td>\n    </tr>\n    <tr>\n      <th>2</th>\n      <td>O</td>\n      <td>H</td>\n      <td>F</td>\n      <td>1</td>\n      <td>1</td>\n    </tr>\n    <tr>\n      <th>3</th>\n      <td>R</td>\n      <td>M</td>\n      <td>F</td>\n      <td>1</td>\n      <td>1</td>\n    </tr>\n    <tr>\n      <th>4</th>\n      <td>S</td>\n      <td>C</td>\n      <td>F</td>\n      <td>1</td>\n      <td>1</td>\n    </tr>\n  </tbody>\n</table>\n</div>"
          },
          "metadata": {}
        }
      ]
    },
    {
      "cell_type": "markdown",
      "metadata": {
        "id": "lIp8-YZCJ5tY"
      },
      "source": [
        "Outlook:  \n",
        "R 1  \n",
        "O 0  \n",
        "S 2  \n",
        "Temp:\n",
        "H 1  \n",
        "M 2  \n",
        "C 0  \n",
        "Humidity:\n",
        "Normal 2   \n",
        "High 0   \n",
        "ex 1  \n",
        "Wind:  \n",
        "F 0  \n",
        "T 1  \n",
        "\n",
        "\n"
      ]
    },
    {
      "cell_type": "code",
      "metadata": {
        "trusted": true,
        "id": "dIXbkYpEJ5ta",
        "outputId": "b79cfbd5-7450-4396-82f7-80f2dbe42d97"
      },
      "source": [
        "#creating labelEncoder\n",
        "le = preprocessing.LabelEncoder()\n",
        "\n",
        "# Converting string labels into numbers.\n",
        "data[\"Outlook\"]=le.fit_transform(data[\"Outlook\"])\n",
        "data[\"Temp\"]=le.fit_transform(data[\"Temp\"])\n",
        "data[\"Humidity\"]=le.fit_transform(data[\"Humidity\"])\n",
        "data[\"Wind\"]=le.fit_transform(data[\"Wind\"])\n",
        "data[\"Class\"]=le.fit_transform(data[\"Class\"])\n",
        "data.head()"
      ],
      "execution_count": null,
      "outputs": [
        {
          "output_type": "execute_result",
          "execution_count": 29,
          "data": {
            "text/plain": "   Outlook  Temp  Wind  Humidity  Class\n0        1     1     0         1      0\n1        1     1     1         2      0\n2        0     1     0         1      1\n3        1     2     0         1      1\n4        2     0     0         1      1",
            "text/html": "<div>\n<style scoped>\n    .dataframe tbody tr th:only-of-type {\n        vertical-align: middle;\n    }\n\n    .dataframe tbody tr th {\n        vertical-align: top;\n    }\n\n    .dataframe thead th {\n        text-align: right;\n    }\n</style>\n<table border=\"1\" class=\"dataframe\">\n  <thead>\n    <tr style=\"text-align: right;\">\n      <th></th>\n      <th>Outlook</th>\n      <th>Temp</th>\n      <th>Wind</th>\n      <th>Humidity</th>\n      <th>Class</th>\n    </tr>\n  </thead>\n  <tbody>\n    <tr>\n      <th>0</th>\n      <td>1</td>\n      <td>1</td>\n      <td>0</td>\n      <td>1</td>\n      <td>0</td>\n    </tr>\n    <tr>\n      <th>1</th>\n      <td>1</td>\n      <td>1</td>\n      <td>1</td>\n      <td>2</td>\n      <td>0</td>\n    </tr>\n    <tr>\n      <th>2</th>\n      <td>0</td>\n      <td>1</td>\n      <td>0</td>\n      <td>1</td>\n      <td>1</td>\n    </tr>\n    <tr>\n      <th>3</th>\n      <td>1</td>\n      <td>2</td>\n      <td>0</td>\n      <td>1</td>\n      <td>1</td>\n    </tr>\n    <tr>\n      <th>4</th>\n      <td>2</td>\n      <td>0</td>\n      <td>0</td>\n      <td>1</td>\n      <td>1</td>\n    </tr>\n  </tbody>\n</table>\n</div>"
          },
          "metadata": {}
        }
      ]
    },
    {
      "cell_type": "code",
      "metadata": {
        "trusted": true,
        "id": "Gn9kNE-BJ5te"
      },
      "source": [
        "X=data.drop([\"Class\"], axis = 1) \n",
        "Y=data[\"Class\"]"
      ],
      "execution_count": null,
      "outputs": []
    },
    {
      "cell_type": "code",
      "metadata": {
        "trusted": true,
        "id": "Urx2IlxdJ5tg"
      },
      "source": [
        "# Train Test devison 95-5\n",
        "X_train, X_test, Y_train, Y_test = train_test_split(X, Y, test_size=0.05, random_state = 143)"
      ],
      "execution_count": null,
      "outputs": []
    },
    {
      "cell_type": "code",
      "metadata": {
        "trusted": true,
        "id": "cC9d0kMSJ5th",
        "outputId": "53b89908-bb42-4912-ebae-83ce84f9ed30"
      },
      "source": [
        "import numpy as np\n",
        "model = GaussianNB()\n",
        "#Create a Classifier\n",
        "#model=MultinomialNB()\n",
        "# Train the model using the training sets\n",
        "model.fit(X_train,Y_train)"
      ],
      "execution_count": null,
      "outputs": [
        {
          "output_type": "execute_result",
          "execution_count": 32,
          "data": {
            "text/plain": "GaussianNB()"
          },
          "metadata": {}
        }
      ]
    },
    {
      "cell_type": "code",
      "metadata": {
        "trusted": true,
        "id": "w3HHQ9y5J5ti"
      },
      "source": [
        "\n",
        "#Predict the response for test dataset\n",
        "target_pred = model.predict(X_test)"
      ],
      "execution_count": null,
      "outputs": []
    },
    {
      "cell_type": "code",
      "metadata": {
        "trusted": true,
        "id": "GtQG1dvQJ5tj",
        "outputId": "e5a05189-44b4-4679-e09f-4998c12a3e51"
      },
      "source": [
        "#Import scikit-learn metrics module for accuracy calculation\n",
        "from sklearn import metrics\n",
        "\n",
        "# Model Accuracy, how often is the classifier correct?\n",
        "print(\"Accuracy:\",metrics.accuracy_score(Y_test, target_pred))"
      ],
      "execution_count": null,
      "outputs": [
        {
          "output_type": "stream",
          "text": "Accuracy: 0.0\n",
          "name": "stdout"
        }
      ]
    },
    {
      "cell_type": "code",
      "metadata": {
        "trusted": true,
        "id": "sZr9r8V0J5tk",
        "outputId": "0e74e7fe-d812-4fb8-a35b-d836d4de8aa4"
      },
      "source": [
        "#Import confusion_matrix from scikit-learn metrics module for confusion_matrix\n",
        "from sklearn.metrics import confusion_matrix\n",
        "confusion_matrix(Y_test, target_pred)"
      ],
      "execution_count": null,
      "outputs": [
        {
          "output_type": "execute_result",
          "execution_count": 35,
          "data": {
            "text/plain": "array([[0, 1],\n       [0, 0]])"
          },
          "metadata": {}
        }
      ]
    },
    {
      "cell_type": "code",
      "metadata": {
        "trusted": true,
        "id": "qm6Ynd9eJ5tk",
        "outputId": "403720d8-61d5-4321-8941-4a6e3ff9fdb5"
      },
      "source": [
        "from sklearn.metrics import precision_score\n",
        "from sklearn.metrics import recall_score\n",
        "\n",
        "precision = precision_score(Y_test, target_pred, average='binary')\n",
        "recall = recall_score(Y_test, target_pred, average='binary')\n",
        "\n",
        "print('precision: {}'.format(precision))\n",
        "print('recall: {}'.format(recall))"
      ],
      "execution_count": null,
      "outputs": [
        {
          "output_type": "stream",
          "text": "precision: 0.0\nrecall: 0.0\n",
          "name": "stdout"
        },
        {
          "output_type": "stream",
          "text": "/srv/conda/envs/notebook/lib/python3.6/site-packages/sklearn/metrics/_classification.py:1245: UndefinedMetricWarning: Recall is ill-defined and being set to 0.0 due to no true samples. Use `zero_division` parameter to control this behavior.\n  _warn_prf(average, modifier, msg_start, len(result))\n",
          "name": "stderr"
        }
      ]
    },
    {
      "cell_type": "markdown",
      "metadata": {
        "id": "nWMMqiKPJ5tl"
      },
      "source": [
        "Outlook:  \n",
        "R 1  \n",
        "O 0  \n",
        "S 2  \n",
        "Temp:\n",
        "H 1  \n",
        "M 2  \n",
        "C 0  \n",
        "Humidity:\n",
        "Normal 2   \n",
        "High 0   \n",
        "ex 1  \n",
        "Wind:  \n",
        "F 0  \n",
        "T 1  \n",
        "\n",
        "\n"
      ]
    },
    {
      "cell_type": "code",
      "metadata": {
        "trusted": true,
        "id": "hAKqzyvDJ5tl",
        "outputId": "1fb778b7-31c7-47d3-fa63-6c6ead918dfc"
      },
      "source": [
        "Que = {'Outlook':  [1, 2],'Temp':[2,0],'Humidity':[2,0],'Wind':[0,1]}\n",
        ",\n",
        "df = pd.DataFrame (Que, columns = ['Outlook','Temp','Humidity','Wind'])\n",
        "df"
      ],
      "execution_count": null,
      "outputs": [
        {
          "output_type": "execute_result",
          "execution_count": 37,
          "data": {
            "text/plain": "   Outlook  Temp  Humidity  Wind\n0        1     2         2     0\n1        2     0         0     1",
            "text/html": "<div>\n<style scoped>\n    .dataframe tbody tr th:only-of-type {\n        vertical-align: middle;\n    }\n\n    .dataframe tbody tr th {\n        vertical-align: top;\n    }\n\n    .dataframe thead th {\n        text-align: right;\n    }\n</style>\n<table border=\"1\" class=\"dataframe\">\n  <thead>\n    <tr style=\"text-align: right;\">\n      <th></th>\n      <th>Outlook</th>\n      <th>Temp</th>\n      <th>Humidity</th>\n      <th>Wind</th>\n    </tr>\n  </thead>\n  <tbody>\n    <tr>\n      <th>0</th>\n      <td>1</td>\n      <td>2</td>\n      <td>2</td>\n      <td>0</td>\n    </tr>\n    <tr>\n      <th>1</th>\n      <td>2</td>\n      <td>0</td>\n      <td>0</td>\n      <td>1</td>\n    </tr>\n  </tbody>\n</table>\n</div>"
          },
          "metadata": {}
        }
      ]
    },
    {
      "cell_type": "code",
      "metadata": {
        "trusted": true,
        "id": "IlwQPcA1J5tm",
        "outputId": "5fd76908-4be3-444c-89e1-3284a321e751"
      },
      "source": [
        "ans = model.predict(df)\n",
        "ans"
      ],
      "execution_count": null,
      "outputs": [
        {
          "output_type": "execute_result",
          "execution_count": 38,
          "data": {
            "text/plain": "array([0, 1])"
          },
          "metadata": {}
        }
      ]
    },
    {
      "cell_type": "markdown",
      "metadata": {
        "id": "o0vrmXdEJ5tn"
      },
      "source": [
        "Answer is:  \n",
        "    Q1= No \n",
        "    Q2= Yes"
      ]
    }
  ]
}
