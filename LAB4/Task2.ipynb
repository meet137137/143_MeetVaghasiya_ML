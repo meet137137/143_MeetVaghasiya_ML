{
  "nbformat": 4,
  "nbformat_minor": 0,
  "metadata": {
    "colab": { 
      "name": "Task2.ipynb",
      "provenance": [],
      "collapsed_sections": []
    },
    "kernelspec": {
      "name": "python3",
      "display_name": "Python 3",
      "language": "python"
    },
    "language_info": {
      "name": "python",
      "version": "3.6.13",
      "mimetype": "text/x-python",
      "codemirror_mode": {
        "name": "ipython",
        "version": 3
      },
      "pygments_lexer": "ipython3",
      "nbconvert_exporter": "python",
      "file_extension": ".py"
    }
  },
  "cells": [
    {
      "cell_type": "markdown",
      "metadata": {
        "id": "8-oXiSGwTFGJ"
      },
      "source": [
        "#Task 2: Apply algorithm on wine dataset - LabelEncoding of features: and Train test Division 66%-34%"
      ]
    },
    {
      "cell_type": "code",
      "metadata": {
        "id": "19-VWLo5dRM_",
        "trusted": true
      },
      "source": [
        "#Import scikit-learn dataset library\n",
        "from sklearn import datasets\n",
        "from sklearn.tree import DecisionTreeClassifier\n",
        "import pandas as pd\n",
        "import numpy as np\n",
        "\n",
        "#Load dataset\n",
        "data = datasets.load_wine()"
      ],
      "execution_count": null,
      "outputs": []
    },
    {
      "cell_type": "code",
      "metadata": {
        "colab": {
          "base_uri": "https://localhost:8080/"
        },
        "id": "STpVNWyrdRNb",
        "trusted": true,
        "outputId": "61c21fe4-36f4-4c9b-bad1-cd1978d6d3c8"
      },
      "source": [
        "# print the names of the features\n",
        "print(\"Features: \", data.feature_names)\n",
        "\n",
        "# print the label type of wine dataset\n",
        "print(\"\\n class: \\n\",data.target_names)\n",
        "\n",
        "# print data(feature)shape\n",
        "print( \"\\n\",data.data.shape)"
      ],
      "execution_count": null,
      "outputs": [
        {
          "output_type": "stream",
          "text": "Features:  ['alcohol', 'malic_acid', 'ash', 'alcalinity_of_ash', 'magnesium', 'total_phenols', 'flavanoids', 'nonflavanoid_phenols', 'proanthocyanins', 'color_intensity', 'hue', 'od280/od315_of_diluted_wines', 'proline']\n\n class: \n ['class_0' 'class_1' 'class_2']\n\n (178, 13)\n",
          "name": "stdout"
        }
      ]
    },
    {
      "cell_type": "code",
      "metadata": {
        "id": "SNoEzna3dRN2",
        "trusted": true
      },
      "source": [
        "#import the necessary module\n",
        "from sklearn.model_selection import train_test_split\n",
        "\n",
        "#split data set into train and test sets\n",
        "data_train, data_test, target_train, target_test = train_test_split(data.data,data.target, test_size = 0.34, random_state = 143)"
      ],
      "execution_count": null,
      "outputs": []
    },
    {
      "cell_type": "code",
      "metadata": {
        "colab": {
          "base_uri": "https://localhost:8080/"
        },
        "id": "CRct6OrjdROI",
        "trusted": true,
        "outputId": "1546f01f-008a-421d-c76e-80821330a31b"
      },
      "source": [
        "#Create a Decision Tree Classifier (using Gini)\n",
        "cli=DecisionTreeClassifier(criterion='gini',max_leaf_nodes=100)\n",
        "cli.fit(data_train,target_train)\n",
        "\n",
        "#Train the model using the training sets\n"
      ],
      "execution_count": null,
      "outputs": [
        {
          "output_type": "execute_result",
          "execution_count": 5,
          "data": {
            "text/plain": "DecisionTreeClassifier(max_leaf_nodes=100)"
          },
          "metadata": {}
        }
      ]
    },
    {
      "cell_type": "code",
      "metadata": {
        "colab": {
          "base_uri": "https://localhost:8080/"
        },
        "id": "EUmpqOTcdROY",
        "trusted": true,
        "outputId": "2a47cc64-ea91-4e40-c342-7b5fb833625e"
      },
      "source": [
        "# Predict the classes of test data\n",
        "\n",
        "\n",
        "prediction=cli.predict(data_test)\n",
        "\n",
        "#print(test_pred.dtype)\n",
        "\n",
        "prediction.dtype"
      ],
      "execution_count": null,
      "outputs": [
        {
          "output_type": "execute_result",
          "execution_count": 6,
          "data": {
            "text/plain": "dtype('int64')"
          },
          "metadata": {}
        }
      ]
    },
    {
      "cell_type": "code",
      "metadata": {
        "colab": {
          "base_uri": "https://localhost:8080/"
        },
        "id": "ygJOfDiAdROs",
        "trusted": true,
        "outputId": "da823f78-0d1a-4f64-bdf3-eebff12c718e"
      },
      "source": [
        "from sklearn import metrics\n",
        "# Model Accuracy, how often is the classifier correct?\n",
        "\n",
        "print(\"Accuracy :\",metrics.accuracy_score(target_test,prediction))\n"
      ],
      "execution_count": null,
      "outputs": [
        {
          "output_type": "stream",
          "text": "Accuracy : 0.9180327868852459\n",
          "name": "stdout"
        }
      ]
    },
    {
      "cell_type": "code",
      "metadata": {
        "colab": {
          "base_uri": "https://localhost:8080/"
        },
        "id": "n2qEF6RvTFGi",
        "trusted": true,
        "outputId": "f0b1524a-c53f-4052-cd51-981882f88829"
      },
      "source": [
        "from sklearn.metrics import precision_score\n",
        "from sklearn.metrics import recall_score\n",
        "precision = precision_score(target_test, prediction,average=None)\n",
        "recall = recall_score(target_test, prediction,average=None)\n",
        "print('precision: \\n {}'.format(precision))\n",
        "print('\\n')\n",
        "print('recall: \\n {}'.format(recall))"
      ],
      "execution_count": null,
      "outputs": [
        {
          "output_type": "stream",
          "text": "precision: \n [0.88888889 0.9        1.        ]\n\n\nrecall: \n [0.88888889 0.93103448 0.92857143]\n",
          "name": "stdout"
        }
      ]
    }
  ]
}
