{
  "nbformat": 4,
  "nbformat_minor": 0,
  "metadata": {
    "colab": {
      "name": "Task1.ipynb",
      "provenance": []
    },
    "kernelspec": {
      "name": "python3",
      "display_name": "Python 3",
      "language": "python"
    },
    "language_info": {
      "name": "python",
      "version": "3.6.13",
      "mimetype": "text/x-python",
      "codemirror_mode": {
        "name": "ipython",
        "version": 3
      },
      "pygments_lexer": "ipython3",
      "nbconvert_exporter": "python",
      "file_extension": ".py"
    }
  },
  "cells": [
    {
      "cell_type": "markdown",
      "metadata": {
        "id": "7uctu-ZzRZOv"
      },
      "source": [
        "# Task 1: Try the algo on Same Whether dataset - LabelEncoding of features: and Train test Division 95%-5%"
      ]
    },
    {
      "cell_type": "markdown",
      "metadata": {
        "id": "De7AICwsdTMR"
      },
      "source": [
        "**Aim: Implement Decsion Tree classifier**\n",
        "\n",
        "\n",
        "- Implement Decision Tree classifier using scikit learn library\n",
        "- Test the classifier for Weather dataset"
      ]
    },
    {
      "cell_type": "markdown",
      "metadata": {
        "id": "alhwH449dTMd"
      },
      "source": [
        "    Step 1: Import necessary libraries."
      ]
    },
    {
      "cell_type": "code",
      "metadata": {
        "id": "1CNH0GcydTMk",
        "trusted": true
      },
      "source": [
        "from sklearn import preprocessing\n",
        "from sklearn.tree import DecisionTreeClassifier"
      ],
      "execution_count": null,
      "outputs": []
    },
    {
      "cell_type": "markdown",
      "metadata": {
        "id": "jw3TNFuOdTNH"
      },
      "source": [
        "    Step 2: Prepare dataset."
      ]
    },
    {
      "cell_type": "code",
      "metadata": {
        "id": "8FYtofzfdTNM",
        "trusted": true
      },
      "source": [
        "#Predictor variables\n",
        "Outlook = ['Rainy', 'Rainy', 'Overcast', 'Sunny', 'Sunny', 'Sunny', 'Overcast',\n",
        "            'Rainy', 'Rainy', 'Sunny', 'Rainy','Overcast', 'Overcast', 'Sunny']\n",
        "Temperature = ['Hot', 'Hot', 'Hot', 'Mild', 'Cool', 'Cool', 'Cool',\n",
        "                'Mild', 'Cool', 'Mild', 'Mild', 'Mild', 'Hot', 'Mild']\n",
        "Humidity = ['High', 'High', 'High', 'High', 'Normal', 'Normal', 'Normal',\n",
        "            'High', 'Normal', 'Normal', 'Normal', 'High', 'Normal', 'High']\n",
        "Wind = ['False', 'True', 'False', 'False', 'False', 'True', 'True',\n",
        "            'False', 'False', 'False', 'True', 'True', 'False', 'True']\n",
        "\n",
        "#Class Label:\n",
        "Play = ['No', 'No', 'Yes', 'Yes', 'Yes', 'No', 'Yes', 'No',\n",
        "'Yes', 'Yes', 'Yes', 'Yes', 'Yes', 'No']"
      ],
      "execution_count": null,
      "outputs": []
    },
    {
      "cell_type": "markdown",
      "metadata": {
        "id": "8FncMW4IdTNk"
      },
      "source": [
        "    Step 3: Digitize the data set using encoding"
      ]
    },
    {
      "cell_type": "code",
      "metadata": {
        "colab": {
          "base_uri": "https://localhost:8080/"
        },
        "id": "Awu5kIQxdTNo",
        "trusted": true,
        "outputId": "74998540-3903-4cb1-8c66-472db9d919ff"
      },
      "source": [
        "#creating labelEncoder\n",
        "le = preprocessing.LabelEncoder()\n",
        "\n",
        "# Converting string labels into numbers.\n",
        "Outlook_encoded = le.fit_transform(Outlook)\n",
        "Outlook_name_mapping = dict(zip(le.classes_, le.transform(le.classes_)))\n",
        "print(\"Outllok mapping:\",Outlook_name_mapping)\n",
        "\n",
        "Temperature_encoded = le.fit_transform(Temperature)\n",
        "Temperature_name_mapping = dict(zip(le.classes_, le.transform(le.classes_)))\n",
        "print(\"Temperature mapping:\",Temperature_name_mapping)\n",
        "\n",
        "Humidity_encoded = le.fit_transform(Humidity)\n",
        "Humidity_name_mapping = dict(zip(le.classes_, le.transform(le.classes_)))\n",
        "print(\"Humidity mapping:\",Humidity_name_mapping)\n",
        "\n",
        "Wind_encoded = le.fit_transform(Wind)\n",
        "Wind_name_mapping = dict(zip(le.classes_, le.transform(le.classes_)))\n",
        "print(\"Wind mapping:\",Wind_name_mapping)\n",
        "\n",
        "Play_encoded = le.fit_transform(Play)\n",
        "Play_name_mapping = dict(zip(le.classes_, le.transform(le.classes_)))\n",
        "print(\"Play mapping:\",Play_name_mapping)\n",
        "\n",
        "print(\"\\n\\n\")\n",
        "print(\"Weather:\" ,Outlook_encoded)\n",
        "print(\"Temerature:\" ,Temperature_encoded)\n",
        "print(\"Humidity:\" ,Humidity_encoded)\n",
        "print(\"Wind:\" ,Wind_encoded)\n",
        "print(\"Play:\" ,Play_encoded)"
      ],
      "execution_count": null,
      "outputs": [
        {
          "output_type": "stream",
          "text": "Outllok mapping: {'Overcast': 0, 'Rainy': 1, 'Sunny': 2}\nTemperature mapping: {'Cool': 0, 'Hot': 1, 'Mild': 2}\nHumidity mapping: {'High': 0, 'Normal': 1}\nWind mapping: {'False': 0, 'True': 1}\nPlay mapping: {'No': 0, 'Yes': 1}\n\n\n\nWeather: [1 1 0 2 2 2 0 1 1 2 1 0 0 2]\nTemerature: [1 1 1 2 0 0 0 2 0 2 2 2 1 2]\nHumidity: [0 0 0 0 1 1 1 0 1 1 1 0 1 0]\nWind: [0 1 0 0 0 1 1 0 0 0 1 1 0 1]\nPlay: [0 0 1 1 1 0 1 0 1 1 1 1 1 0]\n",
          "name": "stdout"
        }
      ]
    },
    {
      "cell_type": "markdown",
      "metadata": {
        "id": "ftSYL4UFdTN8"
      },
      "source": [
        "    Step 4: Merge different features to prepare dataset"
      ]
    },
    {
      "cell_type": "code",
      "metadata": {
        "colab": {
          "base_uri": "https://localhost:8080/"
        },
        "id": "RUCHRYb3dTOC",
        "trusted": true,
        "outputId": "6adb8606-8bf2-4a72-ec7b-ff506f29af64"
      },
      "source": [
        "#Combinig weather and Weather, Temerature, Humidity, Wind, Play into single listof tuples\n",
        "features=tuple(zip(Outlook_encoded,Temperature_encoded,Humidity_encoded,Wind_encoded))\n",
        "print(\"Features:\",features)"
      ],
      "execution_count": null,
      "outputs": [
        {
          "output_type": "stream",
          "text": "Features: ((1, 1, 0, 0), (1, 1, 0, 1), (0, 1, 0, 0), (2, 2, 0, 0), (2, 0, 1, 0), (2, 0, 1, 1), (0, 0, 1, 1), (1, 2, 0, 0), (1, 0, 1, 0), (2, 2, 1, 0), (1, 2, 1, 1), (0, 2, 0, 1), (0, 1, 1, 0), (2, 2, 0, 1))\n",
          "name": "stdout"
        }
      ]
    },
    {
      "cell_type": "markdown",
      "metadata": {
        "id": "NMgpif_GdTOW"
      },
      "source": [
        "    Step 5: Train ’Create and Train DecisionTreeClassifier’"
      ]
    },
    {
      "cell_type": "code",
      "metadata": {
        "id": "XiW1S39HRZO3",
        "trusted": true
      },
      "source": [
        "#import the necessary module\n",
        "from sklearn.model_selection import train_test_split\n",
        "\n",
        "#split data set into train and test sets\n",
        "data_train, data_test, target_train, target_test = train_test_split(features,Play_encoded, test_size = 0.05, random_state = 143)"
      ],
      "execution_count": null,
      "outputs": []
    },
    {
      "cell_type": "code",
      "metadata": {
        "id": "jDnsCMnGdTOa",
        "trusted": true
      },
      "source": [
        "#Create a Decision Tree Classifier (using Entropy)\n",
        "\n",
        "\n",
        "# Train the model using the training sets\n",
        "import numpy as np\n",
        "DecTr = DecisionTreeClassifier()\n",
        "\n",
        "#Train the model using the training sets\n",
        "DecTr=DecTr.fit(data_train, target_train)\n",
        "\n"
      ],
      "execution_count": null,
      "outputs": []
    },
    {
      "cell_type": "markdown",
      "metadata": {
        "id": "ZmgZ1-obdTOw"
      },
      "source": [
        "    Step 6: Predict Output for new data"
      ]
    },
    {
      "cell_type": "code",
      "metadata": {
        "colab": {
          "base_uri": "https://localhost:8080/"
        },
        "id": "lD0pzkWtdTOy",
        "trusted": true,
        "outputId": "cfa3272c-db57-460d-e172-9226015646e1"
      },
      "source": [
        "#Predict Output\n",
        "#Predict the response for test dataset\n",
        "target_pred = DecTr.predict(data_test)\n",
        "print(data_test)\n",
        "print(target_pred)"
      ],
      "execution_count": null,
      "outputs": [
        {
          "output_type": "stream",
          "text": "[(1, 2, 0, 0)]\n[0]\n",
          "name": "stdout"
        }
      ]
    },
    {
      "cell_type": "code",
      "metadata": {
        "colab": {
          "base_uri": "https://localhost:8080/"
        },
        "id": "77tJyE-XRZO6",
        "trusted": true,
        "outputId": "52a4bb06-d9d4-4a2e-a69e-a33873ce8e76"
      },
      "source": [
        "#Import confusion_matrix from scikit-learn metrics module for confusion_matrix\n",
        "from sklearn.metrics import confusion_matrix\n",
        "confusion_matrix(target_test, target_pred)"
      ],
      "execution_count": null,
      "outputs": [
        {
          "output_type": "execute_result",
          "execution_count": 8,
          "data": {
            "text/plain": "array([[1]])"
          },
          "metadata": {}
        }
      ]
    },
    {
      "cell_type": "code",
      "metadata": {
        "colab": {
          "base_uri": "https://localhost:8080/"
        },
        "id": "n-xks5stRZO6",
        "trusted": true,
        "outputId": "fc578b3e-578f-4090-d00a-ece143a5836e"
      },
      "source": [
        "#Import scikit-learn metrics module for accuracy calculation\n",
        "from sklearn import metrics\n",
        "\n",
        "# Model Accuracy, how often is the classifier correct?\n",
        "print(\"Accuracy:\",metrics.accuracy_score(target_test, target_pred))"
      ],
      "execution_count": null,
      "outputs": [
        {
          "output_type": "stream",
          "text": "Accuracy: 1.0\n",
          "name": "stdout"
        }
      ]
    },
    {
      "cell_type": "code",
      "metadata": {
        "colab": {
          "base_uri": "https://localhost:8080/"
        },
        "id": "GrNYi6RRRZO7",
        "trusted": true,
        "outputId": "042dac19-29b8-4ec8-cb0e-83d0cf770943"
      },
      "source": [
        "from sklearn.metrics import precision_score\n",
        "from sklearn.metrics import recall_score\n",
        "\n",
        "precision = precision_score(target_test, target_pred)\n",
        "recall = recall_score(target_test, target_pred)\n",
        "\n",
        "print('precision: {}'.format(precision))\n",
        "print('recall: {}'.format(recall))"
      ],
      "execution_count": null,
      "outputs": [
        {
          "output_type": "stream",
          "text": "precision: 0.0\nrecall: 0.0\n",
          "name": "stdout"
        },
        {
          "output_type": "stream",
          "text": "/srv/conda/envs/notebook/lib/python3.6/site-packages/sklearn/metrics/_classification.py:1248: UndefinedMetricWarning: Precision is ill-defined and being set to 0.0 due to no predicted samples. Use `zero_division` parameter to control this behavior.\n  _warn_prf(average, modifier, msg_start, len(result))\n/srv/conda/envs/notebook/lib/python3.6/site-packages/sklearn/metrics/_classification.py:1248: UndefinedMetricWarning: Recall is ill-defined and being set to 0.0 due to no true samples. Use `zero_division` parameter to control this behavior.\n  _warn_prf(average, modifier, msg_start, len(result))\n",
          "name": "stderr"
        }
      ]
    },
    {
      "cell_type": "code",
      "metadata": {
        "colab": {
          "base_uri": "https://localhost:8080/",
          "height": 466
        },
        "id": "FZ9srf8QRZO8",
        "trusted": true,
        "outputId": "689cfcea-813b-4249-b721-8249d3412f41"
      },
      "source": [
        "from sklearn import tree\n",
        "tree.plot_tree(DecTr)"
      ],
      "execution_count": null,
      "outputs": [
        {
          "output_type": "execute_result",
          "execution_count": 11,
          "data": {
            "text/plain": "[Text(111.60000000000001, 195.696, 'X[0] <= 0.5\\ngini = 0.426\\nsamples = 13\\nvalue = [4, 9]'),\n Text(74.4, 152.208, 'gini = 0.0\\nsamples = 4\\nvalue = [0, 4]'),\n Text(148.8, 152.208, 'X[2] <= 0.5\\ngini = 0.494\\nsamples = 9\\nvalue = [4, 5]'),\n Text(74.4, 108.72, 'X[0] <= 1.5\\ngini = 0.375\\nsamples = 4\\nvalue = [3, 1]'),\n Text(37.2, 65.232, 'gini = 0.0\\nsamples = 2\\nvalue = [2, 0]'),\n Text(111.60000000000001, 65.232, 'X[3] <= 0.5\\ngini = 0.5\\nsamples = 2\\nvalue = [1, 1]'),\n Text(74.4, 21.744, 'gini = 0.0\\nsamples = 1\\nvalue = [0, 1]'),\n Text(148.8, 21.744, 'gini = 0.0\\nsamples = 1\\nvalue = [1, 0]'),\n Text(223.20000000000002, 108.72, 'X[3] <= 0.5\\ngini = 0.32\\nsamples = 5\\nvalue = [1, 4]'),\n Text(186.0, 65.232, 'gini = 0.0\\nsamples = 3\\nvalue = [0, 3]'),\n Text(260.40000000000003, 65.232, 'X[1] <= 1.0\\ngini = 0.5\\nsamples = 2\\nvalue = [1, 1]'),\n Text(223.20000000000002, 21.744, 'gini = 0.0\\nsamples = 1\\nvalue = [1, 0]'),\n Text(297.6, 21.744, 'gini = 0.0\\nsamples = 1\\nvalue = [0, 1]')]"
          },
          "metadata": {}
        },
        {
          "output_type": "display_data",
          "data": {
            "text/plain": "<Figure size 432x288 with 1 Axes>",
            "image/png": "[encoded data removed]"
          },
          "metadata": {
            "needs_background": "light"
          }
        }
      ]
    },
    {
      "cell_type": "code",
      "metadata": {
        "colab": {
          "base_uri": "https://localhost:8080/"
        },
        "id": "Z1MJJBAIRZO8",
        "trusted": true,
        "outputId": "7110d959-ca20-4c07-e214-e6471bce4ee5"
      },
      "source": [
        "# Q.1\n",
        "target_pred1 = DecTr.predict([(1,2,1,0)])\n",
        "print(target_pred1)"
      ],
      "execution_count": null,
      "outputs": [
        {
          "output_type": "stream",
          "text": "[1]\n",
          "name": "stdout"
        }
      ]
    },
    {
      "cell_type": "code",
      "metadata": {
        "colab": {
          "base_uri": "https://localhost:8080/"
        },
        "id": "SbV0dJEKRZO9",
        "trusted": true,
        "outputId": "0b107959-1854-46bf-d887-5016e6da9847"
      },
      "source": [
        "# Q.2\n",
        "target_pred2 = DecTr.predict([(2,0,0,1)])\n",
        "print(target_pred2)"
      ],
      "execution_count": null,
      "outputs": [
        {
          "output_type": "stream",
          "text": "[0]\n",
          "name": "stdout"
        }
      ]
    }
  ]
}