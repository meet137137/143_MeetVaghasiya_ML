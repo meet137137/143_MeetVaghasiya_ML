{
  "nbformat": 4,
  "nbformat_minor": 0,
  "metadata": {
    "colab": {
      "name": "Task1.ipynb",
      "provenance": []
    },
    "kernelspec": {
      "name": "python3",
      "display_name": "Python 3",
      "language": "python"
    },
    "language_info": {
      "name": "python",
      "version": "3.6.13",
      "mimetype": "text/x-python",
      "codemirror_mode": {
        "name": "ipython",
        "version": 3
      },
      "pygments_lexer": "ipython3",
      "nbconvert_exporter": "python",
      "file_extension": ".py"
    }
  },
  "cells": [
    {
      "cell_type": "markdown",
      "metadata": {
        "id": "0eXVUpoKZwNr"
      },
      "source": [
        "#Task 1 :Try Linear Regression just using numpy (Without Tensorflow/Pytorch or other torch library)."
      ]
    },
    {
      "cell_type": "code",
      "metadata": {
        "id": "W6NK3ltgYHJ3",
        "trusted": true
      },
      "source": [
        "import numpy as np\n",
        "from sklearn.linear_model import LinearRegression"
      ],
      "execution_count": null,
      "outputs": []
    },
    {
      "cell_type": "code",
      "metadata": {
        "colab": {
          "base_uri": "https://localhost:8080/"
        },
        "id": "lHVGJ7nNYHJ4",
        "trusted": true,
        "outputId": "f319ac6c-a701-4f36-c478-c3eb54a28f15"
      },
      "source": [
        "inputs = np.array([[73, 67, 43],\n",
        "                    [91, 88, 64],\n",
        "                    [87, 134, 58],\n",
        "                    [102, 43, 37],\n",
        "                    [69, 96, 70],\n",
        "                    [73, 67, 43],\n",
        "                    [91, 88, 64],\n",
        "                    [87, 134, 58],\n",
        "                    [102, 43, 37],\n",
        "                    [69, 96, 70],\n",
        "                    [73, 67, 43], \n",
        "                    [91, 88, 64], \n",
        "                    [87, 134, 58], \n",
        "                    [102, 43, 37], \n",
        "                    [69, 96, 70]], dtype='float32')\n",
        "print(inputs.shape)"
      ],
      "execution_count": null,
      "outputs": [
        {
          "output_type": "stream",
          "name": "stdout",
          "text": [
            "(15, 3)\n"
          ]
        }
      ]
    },
    {
      "cell_type": "code",
      "metadata": {
        "id": "3NunoIBCYHJ6",
        "trusted": true
      },
      "source": [
        "targets = np.array([[56, 70], [81, 101], [119, 133], [22, 37], [103, 119],\n",
        "[56, 70], [81, 101], [119, 133], [22, 37], [103, 119],\n",
        "[56, 70], [81, 101], [119, 133], [22, 37], [103, 119]], dtype='float32')"
      ],
      "execution_count": null,
      "outputs": []
    },
    {
      "cell_type": "code",
      "metadata": {
        "id": "GGlX1RMbYHJ6",
        "trusted": true
      },
      "source": [
        "from sklearn.model_selection import train_test_split\n",
        "x_train,x_test,y_train,y_test = train_test_split(inputs,targets,test_size=0.3, random_state=143)"
      ],
      "execution_count": null,
      "outputs": []
    },
    {
      "cell_type": "code",
      "metadata": {
        "colab": {
          "base_uri": "https://localhost:8080/"
        },
        "id": "_7ez_dU0YHJ7",
        "trusted": true,
        "outputId": "5ea40d81-925b-48b4-a6bf-883d09006bb6"
      },
      "source": [
        "reg = LinearRegression().fit(x_train,y_train)\n",
        "print(reg)"
      ],
      "execution_count": null,
      "outputs": [
        {
          "output_type": "stream",
          "name": "stdout",
          "text": [
            "LinearRegression(copy_X=True, fit_intercept=True, n_jobs=None, normalize=False)\n"
          ]
        }
      ]
    },
    {
      "cell_type": "code",
      "metadata": {
        "colab": {
          "base_uri": "https://localhost:8080/"
        },
        "id": "qisKJXBxYHJ8",
        "trusted": true,
        "outputId": "1647da63-2d51-4231-dc9e-20f1d28f8d48"
      },
      "source": [
        "print(reg.intercept_)\n",
        "print(reg.coef_)"
      ],
      "execution_count": null,
      "outputs": [
        {
          "output_type": "stream",
          "name": "stdout",
          "text": [
            "[ 1.1630325 -2.414566 ]\n",
            "[[-0.4826192   0.8787389   0.7254108 ]\n",
            " [-0.27849662  0.7918353   0.92306626]]\n"
          ]
        }
      ]
    },
    {
      "cell_type": "code",
      "metadata": {
        "colab": {
          "base_uri": "https://localhost:8080/"
        },
        "id": "-wIb51_WYHJ9",
        "trusted": true,
        "outputId": "6c29e675-92e3-4ec8-df82-b8a37d44906f"
      },
      "source": [
        "y_pred = reg.predict(x_test)\n",
        "print(y_pred,\"\\n\")\n",
        "print(y_test)"
      ],
      "execution_count": null,
      "outputs": [
        {
          "output_type": "stream",
          "name": "stdout",
          "text": [
            "[[119.       133.      ]\n",
            " [ 16.561848  37.38115 ]\n",
            " [ 16.561848  37.38115 ]\n",
            " [103.       118.99999 ]\n",
            " [ 16.561848  37.38115 ]] \n",
            "\n",
            "[[119. 133.]\n",
            " [ 22.  37.]\n",
            " [ 22.  37.]\n",
            " [103. 119.]\n",
            " [ 22.  37.]]\n"
          ]
        }
      ]
    },
    {
      "cell_type": "code",
      "metadata": {
        "colab": {
          "base_uri": "https://localhost:8080/"
        },
        "id": "yrVwSpngYHJ-",
        "trusted": true,
        "outputId": "985beee9-986b-44e0-a6d3-42e27a8c2589"
      },
      "source": [
        "from sklearn import metrics\n",
        "print('\\n Mean Squared Error:', metrics.mean_squared_error(y_test, y_pred))"
      ],
      "execution_count": null,
      "outputs": [
        {
          "output_type": "stream",
          "name": "stdout",
          "text": [
            "\n",
            " Mean Squared Error: 8.915631\n"
          ]
        }
      ]
    }
  ]
}