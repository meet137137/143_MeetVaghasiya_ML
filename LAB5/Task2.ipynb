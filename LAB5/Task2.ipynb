{
  "nbformat": 4,
  "nbformat_minor": 0,
  "metadata": {
    "kernelspec": {
      "display_name": "Python 3",
      "language": "python",
      "name": "python3"
    },
    "language_info": {
      "codemirror_mode": {
        "name": "ipython",
        "version": 3
      },
      "file_extension": ".py",
      "mimetype": "text/x-python",
      "name": "python",
      "nbconvert_exporter": "python",
      "pygments_lexer": "ipython3",
      "version": "3.8.3"
    },
    "colab": {
      "name": "Task2.ipynb",
      "provenance": []
    }
  },
  "cells": [
    {
      "cell_type": "markdown",
      "metadata": {
        "id": "J1ilwzgdZVx_"
      },
      "source": [
        "#Task2: Try Linear regression on same prediction data using Tensorflow"
      ]
    },
    {
      "cell_type": "code",
      "metadata": {
        "id": "LmJfRlyJZQrC"
      },
      "source": [
        "import numpy as np\n",
        "import tensorflow as tf"
      ],
      "execution_count": null,
      "outputs": []
    },
    {
      "cell_type": "code",
      "metadata": {
        "id": "-5YncrZRZQrH"
      },
      "source": [
        "inputs = np.array([[73, 67, 43], [91, 88, 64], [87, 134, 58], [102, 43, 37], [69, 96, 70],[73, 67, 43], [91, 88, 64], \n",
        "                   [87, 134, 58], [102, 43, 37], [69, 96, 70], [73, 67, 43], [91, 88, 64], [87, 134, 58], [102, 43, 37], \n",
        "                   [69, 96, 70]], dtype='float64')\n",
        "\n",
        "targets = np.array([[56, 70], [81, 101], [119, 133], [22, 37], [103, 119],[56, 70], [81, 101], [119, 133], [22, 37], \n",
        "                    [103, 119],[56, 70], [81, 101], [119, 133], [22, 37], [103, 119]], dtype='float64')"
      ],
      "execution_count": null,
      "outputs": []
    },
    {
      "cell_type": "code",
      "metadata": {
        "colab": {
          "base_uri": "https://localhost:8080/"
        },
        "id": "DVu7ljiDZQrI",
        "outputId": "19539f45-5594-4e61-eff4-2a1ce183ca73"
      },
      "source": [
        "inputs = tf.Variable(inputs)\n",
        "targets = tf.Variable(targets)\n",
        "print(\"targets :\\n\",targets)"
      ],
      "execution_count": null,
      "outputs": [
        {
          "output_type": "stream",
          "text": [
            "targets :\n",
            " <tf.Variable 'Variable:0' shape=(15, 2) dtype=float64, numpy=\n",
            "array([[ 56.,  70.],\n",
            "       [ 81., 101.],\n",
            "       [119., 133.],\n",
            "       [ 22.,  37.],\n",
            "       [103., 119.],\n",
            "       [ 56.,  70.],\n",
            "       [ 81., 101.],\n",
            "       [119., 133.],\n",
            "       [ 22.,  37.],\n",
            "       [103., 119.],\n",
            "       [ 56.,  70.],\n",
            "       [ 81., 101.],\n",
            "       [119., 133.],\n",
            "       [ 22.,  37.],\n",
            "       [103., 119.]])>\n"
          ],
          "name": "stdout"
        }
      ]
    },
    {
      "cell_type": "code",
      "metadata": {
        "colab": {
          "base_uri": "https://localhost:8080/"
        },
        "id": "5wlZ_7VMZQrK",
        "outputId": "453b254f-7961-49de-cb24-30cc627d7fd7"
      },
      "source": [
        "v = np.random.rand(3,2)\n",
        "r = np.random.randn(2)\n",
        "v = tf.Variable(v)\n",
        "r = tf.Variable(r)\n",
        "\n",
        "print(v)\n",
        "print(\"\\n\",r)"
      ],
      "execution_count": null,
      "outputs": [
        {
          "output_type": "stream",
          "text": [
            "<tf.Variable 'Variable:0' shape=(3, 2) dtype=float64, numpy=\n",
            "array([[0.61125314, 0.86103858],\n",
            "       [0.24731417, 0.80780256],\n",
            "       [0.92013879, 0.70700917]])>\n",
            "\n",
            " <tf.Variable 'Variable:0' shape=(2,) dtype=float64, numpy=array([ 0.28613097, -0.93170373])>\n"
          ],
          "name": "stdout"
        }
      ]
    },
    {
      "cell_type": "code",
      "metadata": {
        "id": "E_oL9WFhZQrL"
      },
      "source": [
        "def model(s):\n",
        "    return s @ v + r"
      ],
      "execution_count": null,
      "outputs": []
    },
    {
      "cell_type": "code",
      "metadata": {
        "colab": {
          "base_uri": "https://localhost:8080/"
        },
        "id": "KbI3OOQmZQrL",
        "outputId": "95738439-921c-453b-82a2-85587c33b74a"
      },
      "source": [
        "prediction = model(inputs)\n",
        "print(prediction)"
      ],
      "execution_count": null,
      "outputs": [
        {
          "output_type": "stream",
          "text": [
            "tf.Tensor(\n",
            "[[101.04362782 146.4482786 ]\n",
            " [136.56269661 193.75801939]\n",
            " [139.9733031  223.2307278 ]\n",
            " [107.31359607 147.78908105]\n",
            " [130.61447363 185.51964606]\n",
            " [101.04362782 146.4482786 ]\n",
            " [136.56269661 193.75801939]\n",
            " [139.9733031  223.2307278 ]\n",
            " [107.31359607 147.78908105]\n",
            " [130.61447363 185.51964606]\n",
            " [101.04362782 146.4482786 ]\n",
            " [136.56269661 193.75801939]\n",
            " [139.9733031  223.2307278 ]\n",
            " [107.31359607 147.78908105]\n",
            " [130.61447363 185.51964606]], shape=(15, 2), dtype=float64)\n"
          ],
          "name": "stdout"
        }
      ]
    },
    {
      "cell_type": "code",
      "metadata": {
        "colab": {
          "base_uri": "https://localhost:8080/"
        },
        "id": "JmIALX3KZQrM",
        "outputId": "c11bfed8-5879-4f11-9a91-b0a3eedb99a3"
      },
      "source": [
        "def mse(t1,t2):\n",
        "    return tf.reduce_mean(tf.square(t1 - t2))\n",
        "print(mse(prediction,targets))"
      ],
      "execution_count": null,
      "outputs": [
        {
          "output_type": "stream",
          "text": [
            "tf.Tensor(5288.604742569195, shape=(), dtype=float64)\n"
          ],
          "name": "stdout"
        }
      ]
    },
    {
      "cell_type": "code",
      "metadata": {
        "colab": {
          "base_uri": "https://localhost:8080/"
        },
        "id": "7qbjDtJ1ZQrN",
        "outputId": "902c4c86-578b-4cfb-d823-218ed3c15dd0"
      },
      "source": [
        "epochs = 40\n",
        "for epoch_count in range(epochs):\n",
        "    \n",
        "    with tf.GradientTape(persistent=True) as t:\n",
        "        current_loss = mse(targets, model(inputs))\n",
        "\n",
        "    v1 = t.gradient(current_loss,v)\n",
        "    r1 = t.gradient(current_loss,r)\n",
        "\n",
        "    v.assign_sub(1e-4 * v1)\n",
        "    r.assign_sub(1e-4 * r1)\n",
        "        \n",
        "    print(f\" \\n Epoch count: {epoch_count} \\n Loss value: {current_loss.numpy()}\")\n"
      ],
      "execution_count": null,
      "outputs": [
        {
          "output_type": "stream",
          "text": [
            " \n",
            " Epoch count: 0 \n",
            " Loss value: 5288.604742569195\n",
            " \n",
            " Epoch count: 1 \n",
            " Loss value: 3477.3923686758203\n",
            " \n",
            " Epoch count: 2 \n",
            " Loss value: 2324.034189829162\n",
            " \n",
            " Epoch count: 3 \n",
            " Loss value: 1584.7056974737782\n",
            " \n",
            " Epoch count: 4 \n",
            " Loss value: 1106.567348971904\n",
            " \n",
            " Epoch count: 5 \n",
            " Loss value: 793.7367070388262\n",
            " \n",
            " Epoch count: 6 \n",
            " Loss value: 585.9961744963167\n",
            " \n",
            " Epoch count: 7 \n",
            " Loss value: 445.468627144942\n",
            " \n",
            " Epoch count: 8 \n",
            " Loss value: 348.27822375092995\n",
            " \n",
            " Epoch count: 9 \n",
            " Loss value: 279.3303545155098\n",
            " \n",
            " Epoch count: 10 \n",
            " Loss value: 229.04328880242358\n",
            " \n",
            " Epoch count: 11 \n",
            " Loss value: 191.3011303767338\n",
            " \n",
            " Epoch count: 12 \n",
            " Loss value: 162.17110925232802\n",
            " \n",
            " Epoch count: 13 \n",
            " Loss value: 139.09929522671536\n",
            " \n",
            " Epoch count: 14 \n",
            " Loss value: 120.40583450266512\n",
            " \n",
            " Epoch count: 15 \n",
            " Loss value: 104.96776362507633\n",
            " \n",
            " Epoch count: 16 \n",
            " Loss value: 92.01934375857513\n",
            " \n",
            " Epoch count: 17 \n",
            " Loss value: 81.02606675675972\n",
            " \n",
            " Epoch count: 18 \n",
            " Loss value: 71.60488295856916\n",
            " \n",
            " Epoch count: 19 \n",
            " Loss value: 63.4734617534222\n",
            " \n",
            " Epoch count: 20 \n",
            " Loss value: 56.41771726401052\n",
            " \n",
            " Epoch count: 21 \n",
            " Loss value: 50.2708503946964\n",
            " \n",
            " Epoch count: 22 \n",
            " Loss value: 44.89967424035358\n",
            " \n",
            " Epoch count: 23 \n",
            " Loss value: 40.19556504253649\n",
            " \n",
            " Epoch count: 24 \n",
            " Loss value: 36.06836749888184\n",
            " \n",
            " Epoch count: 25 \n",
            " Loss value: 32.442201496345504\n",
            " \n",
            " Epoch count: 26 \n",
            " Loss value: 29.25250503506711\n",
            " \n",
            " Epoch count: 27 \n",
            " Loss value: 26.443891451189746\n",
            " \n",
            " Epoch count: 28 \n",
            " Loss value: 23.968551982638544\n",
            " \n",
            " Epoch count: 29 \n",
            " Loss value: 21.785031013863435\n",
            " \n",
            " Epoch count: 30 \n",
            " Loss value: 19.85726211592157\n",
            " \n",
            " Epoch count: 31 \n",
            " Loss value: 18.153791496423953\n",
            " \n",
            " Epoch count: 32 \n",
            " Loss value: 16.647139974173125\n",
            " \n",
            " Epoch count: 33 \n",
            " Loss value: 15.313270285606189\n",
            " \n",
            " Epoch count: 34 \n",
            " Loss value: 14.13113666740174\n",
            " \n",
            " Epoch count: 35 \n",
            " Loss value: 13.082300282373849\n",
            " \n",
            " Epoch count: 36 \n",
            " Loss value: 12.15059844542476\n",
            " \n",
            " Epoch count: 37 \n",
            " Loss value: 11.321858568719959\n",
            " \n",
            " Epoch count: 38 \n",
            " Loss value: 10.583649788228161\n",
            " \n",
            " Epoch count: 39 \n",
            " Loss value: 9.925066678293609\n"
          ],
          "name": "stdout"
        }
      ]
    }
  ]
}